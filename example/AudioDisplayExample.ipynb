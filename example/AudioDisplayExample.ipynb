{
 "cells": [
  {
   "cell_type": "markdown",
   "id": "305e6e0f-2e7f-4514-bd3e-d65d00532ea6",
   "metadata": {},
   "source": [
    "# AudioDisplay Examples"
   ]
  },
  {
   "cell_type": "code",
   "execution_count": null,
   "id": "1035e9ef-60eb-4799-919c-7d77d238f4d0",
   "metadata": {},
   "outputs": [],
   "source": [
    "using AudioDisplay\n",
    "using WAV # Needed to write WAV files to test"
   ]
  },
  {
   "cell_type": "markdown",
   "id": "5f3891a5-cf57-4128-a8f8-670c7752fed4",
   "metadata": {},
   "source": [
    "Set parameters for waveform."
   ]
  },
  {
   "cell_type": "code",
   "execution_count": null,
   "id": "7f185692-c0a5-4c77-8d61-a0babfef6178",
   "metadata": {},
   "outputs": [],
   "source": [
    "fs = 44100 # sampling frequency\n",
    "tt = 0.0:1/fs:1.0 # times of samples"
   ]
  },
  {
   "cell_type": "markdown",
   "id": "14dd9cb7-e2a0-459f-b39f-85d9f3e96d67",
   "metadata": {},
   "source": [
    "## Playing Arrays and Matrices"
   ]
  },
  {
   "cell_type": "markdown",
   "id": "abf27306-f1a8-4eab-a30b-ee9a57529176",
   "metadata": {},
   "source": [
    "### Int16 data"
   ]
  },
  {
   "cell_type": "markdown",
   "id": "f55dd85f-c97b-4369-8dc5-be4bbb3cb390",
   "metadata": {},
   "source": [
    "#### One channel"
   ]
  },
  {
   "cell_type": "code",
   "execution_count": null,
   "id": "980790ac-3ed0-4af2-8e18-af20efcc36c8",
   "metadata": {},
   "outputs": [],
   "source": [
    "A = typemax(Int16)\n",
    "f1 = 250.0\n",
    "wave1int16 = round.(Int16, A * sin.(2*pi*f1*tt))"
   ]
  },
  {
   "cell_type": "code",
   "execution_count": null,
   "id": "ddfe3335-e21a-44d7-ba3b-7a3bbe04663f",
   "metadata": {},
   "outputs": [],
   "source": [
    "audio(wave1int16, fs)"
   ]
  },
  {
   "cell_type": "markdown",
   "id": "1598f077-2c9f-4034-a4a8-9c21d59ac6af",
   "metadata": {},
   "source": [
    "#### Two channels"
   ]
  },
  {
   "cell_type": "code",
   "execution_count": null,
   "id": "aa2074c6-2124-4026-9917-a0247a4ef2e7",
   "metadata": {},
   "outputs": [],
   "source": [
    "f2 = 255.0\n",
    "wave2int16 = round.(Int16, A * sin.(2*pi*f2*tt))"
   ]
  },
  {
   "cell_type": "code",
   "execution_count": null,
   "id": "3bae3632-99e3-4165-b07f-3c457f1f6513",
   "metadata": {},
   "outputs": [],
   "source": [
    "swaveint16 = hcat(wave1int16, wave2int16)"
   ]
  },
  {
   "cell_type": "code",
   "execution_count": null,
   "id": "22fa1494-3f00-42ec-905f-5800a66051c0",
   "metadata": {},
   "outputs": [],
   "source": [
    "audio(swaveint16, fs)"
   ]
  },
  {
   "cell_type": "markdown",
   "id": "e1501dac-c345-4362-90c2-46a038e9125e",
   "metadata": {},
   "source": [
    "### Float32 data"
   ]
  },
  {
   "cell_type": "markdown",
   "id": "074891a9-cde7-4a61-ab5a-ada1fc947c4b",
   "metadata": {},
   "source": [
    "#### One channel"
   ]
  },
  {
   "cell_type": "code",
   "execution_count": null,
   "id": "6e870aa6-ab84-4a54-a689-ffd418a6ea52",
   "metadata": {},
   "outputs": [],
   "source": [
    "A = 1.00\n",
    "f1 = 250.0\n",
    "wave1float32 = Float32.(A * sin.(2*pi*f1*tt))"
   ]
  },
  {
   "cell_type": "code",
   "execution_count": null,
   "id": "7a2ab978-2fec-4baf-a1d9-ac6e43d05726",
   "metadata": {},
   "outputs": [],
   "source": [
    "audio(wave1float32, fs)"
   ]
  },
  {
   "cell_type": "markdown",
   "id": "d0189d0b-6e37-4670-b2aa-2581d8854d2d",
   "metadata": {},
   "source": [
    "#### Two channels"
   ]
  },
  {
   "cell_type": "code",
   "execution_count": null,
   "id": "4dc160e9-3a49-4f42-a1df-c20cb90dac3c",
   "metadata": {},
   "outputs": [],
   "source": [
    "f2 = 255.0\n",
    "wave2float32 = Float32.(A * sin.(2*pi*f2*tt))"
   ]
  },
  {
   "cell_type": "code",
   "execution_count": null,
   "id": "5e951d9a-8eef-4bc2-a037-297eb80a973a",
   "metadata": {},
   "outputs": [],
   "source": [
    "swavefloat32 = hcat(wave1float32, wave2float32)"
   ]
  },
  {
   "cell_type": "code",
   "execution_count": null,
   "id": "587d305f-b9a4-4cf4-b1a8-e0fd34566b91",
   "metadata": {},
   "outputs": [],
   "source": [
    "audio(swavefloat32, fs)"
   ]
  },
  {
   "cell_type": "markdown",
   "id": "8918368c-e7b0-47b6-8518-aa7df5405947",
   "metadata": {},
   "source": [
    "## Playing WAV files"
   ]
  },
  {
   "cell_type": "markdown",
   "id": "05ed76f1-7760-463a-ba3f-5d0b70aea63a",
   "metadata": {},
   "source": [
    "### 16 bit WAV files"
   ]
  },
  {
   "cell_type": "markdown",
   "id": "7b28acc2-74fc-4462-808e-3ca040fde87c",
   "metadata": {},
   "source": [
    "Create 16 bit integer file to play."
   ]
  },
  {
   "cell_type": "code",
   "execution_count": null,
   "id": "da572892-59a0-4507-8898-6d010ff98d82",
   "metadata": {},
   "outputs": [],
   "source": [
    "wavwrite(swaveint16, \"swaveint16.wav\"; Fs=fs)"
   ]
  },
  {
   "cell_type": "code",
   "execution_count": null,
   "id": "d537c31b-65ed-43d2-ab59-1a55d5ad8429",
   "metadata": {},
   "outputs": [],
   "source": [
    "audio(\"swaveint16.wav\")"
   ]
  },
  {
   "cell_type": "code",
   "execution_count": null,
   "id": "de88af36-203e-45a2-b588-6ded519bba16",
   "metadata": {},
   "outputs": [],
   "source": [
    "audio(\"swaveint16.wav\"; t0=0.25, t1=0.75)"
   ]
  },
  {
   "cell_type": "code",
   "execution_count": null,
   "id": "d030415f-959d-472f-8ab6-0b4d0edce56a",
   "metadata": {},
   "outputs": [],
   "source": [
    "audio(\"swaveint16.wav\"; t0=0, t1=0.75)"
   ]
  },
  {
   "cell_type": "code",
   "execution_count": null,
   "id": "0b94c961-c65c-45d3-89f5-9b3abfc8668c",
   "metadata": {},
   "outputs": [],
   "source": [
    "audio(\"swaveint16.wav\"; t0=0.25, t1=-1)"
   ]
  },
  {
   "cell_type": "markdown",
   "id": "9f17c7cf-4534-43a4-91d5-09afd2993f1b",
   "metadata": {},
   "source": [
    "Now play from an open IOStream."
   ]
  },
  {
   "cell_type": "code",
   "execution_count": null,
   "id": "30e41745-2b46-4449-bba0-12fb104f28f9",
   "metadata": {},
   "outputs": [],
   "source": [
    "wavef = open(\"swaveint16.wav\", \"r\")"
   ]
  },
  {
   "cell_type": "code",
   "execution_count": null,
   "id": "7a462e4f-7af8-46a8-aa10-e407642c133a",
   "metadata": {},
   "outputs": [],
   "source": [
    "audio(wavef)"
   ]
  },
  {
   "cell_type": "code",
   "execution_count": null,
   "id": "d4c99da1-94fa-4da7-ba92-9fa0f9aaaf93",
   "metadata": {},
   "outputs": [],
   "source": [
    "audio(wavef; t0=0.25, t1=0.75)"
   ]
  },
  {
   "cell_type": "code",
   "execution_count": null,
   "id": "71353467-0bf7-4adf-b532-eb61c309ca3f",
   "metadata": {},
   "outputs": [],
   "source": [
    "audio(wavef; t0=0.25, t1=-1)"
   ]
  },
  {
   "cell_type": "code",
   "execution_count": null,
   "id": "e2444541-afa2-41fe-957c-651b22ab567e",
   "metadata": {},
   "outputs": [],
   "source": [
    "audio(wavef; t0=0, t1=0.75)"
   ]
  },
  {
   "cell_type": "code",
   "execution_count": null,
   "id": "6f404480-3486-46b5-9860-cf3b3daae69d",
   "metadata": {},
   "outputs": [],
   "source": [
    "close(wavef)"
   ]
  },
  {
   "cell_type": "markdown",
   "id": "ff20735c-9a7c-46ff-9176-e0170e1b5748",
   "metadata": {},
   "source": [
    "### Float32 WAV files"
   ]
  },
  {
   "cell_type": "markdown",
   "id": "3830de64-6a53-4709-a3a8-dde1b8154c85",
   "metadata": {},
   "source": [
    "Create Float32 file to play."
   ]
  },
  {
   "cell_type": "code",
   "execution_count": null,
   "id": "0f541d07-8744-4869-b0e6-1011917823b2",
   "metadata": {},
   "outputs": [],
   "source": [
    "wavwrite(swavefloat32, \"swavefloat32.wav\"; Fs=fs)"
   ]
  },
  {
   "cell_type": "code",
   "execution_count": null,
   "id": "c7994ad2-df1b-4bc1-b12b-84bafbc2ac7d",
   "metadata": {},
   "outputs": [],
   "source": [
    "audio(\"swavefloat32.wav\")"
   ]
  },
  {
   "cell_type": "code",
   "execution_count": null,
   "id": "aacbb5e1-3cf9-44d6-bf6e-17f5c5764cd5",
   "metadata": {},
   "outputs": [],
   "source": [
    "audio(\"swavefloat32.wav\"; t0=0.25, t1=0.75)"
   ]
  },
  {
   "cell_type": "code",
   "execution_count": null,
   "id": "4af1ea3e-4a88-4c46-b464-f4a0b94e3cee",
   "metadata": {},
   "outputs": [],
   "source": [
    "audio(\"swavefloat32.wav\"; t0=0, t1=0.75)"
   ]
  },
  {
   "cell_type": "code",
   "execution_count": null,
   "id": "e49a8a11-929d-48b9-9b5d-aac08cd93131",
   "metadata": {},
   "outputs": [],
   "source": [
    "audio(\"swavefloat32.wav\"; t0=0.25, t1=-1)"
   ]
  },
  {
   "cell_type": "markdown",
   "id": "798a086d-ba50-45ed-9f87-e1db5c465b36",
   "metadata": {},
   "source": [
    "Now play from an open IOStream."
   ]
  },
  {
   "cell_type": "code",
   "execution_count": null,
   "id": "a87a22a8-9fd9-43da-91a5-5d55333916dd",
   "metadata": {},
   "outputs": [],
   "source": [
    "wavef = open(\"swavefloat32.wav\", \"r\")"
   ]
  },
  {
   "cell_type": "code",
   "execution_count": null,
   "id": "86b3023b-ae0d-4b3f-be09-99714fd8e48d",
   "metadata": {},
   "outputs": [],
   "source": [
    "audio(wavef)"
   ]
  },
  {
   "cell_type": "code",
   "execution_count": null,
   "id": "60d22c58-995e-4dbd-9602-a559b1d6118b",
   "metadata": {},
   "outputs": [],
   "source": [
    "audio(wavef; t0=0.25, t1=0.75)"
   ]
  },
  {
   "cell_type": "code",
   "execution_count": null,
   "id": "706c7c57-04f0-4ac0-ae78-493d970ab903",
   "metadata": {},
   "outputs": [],
   "source": [
    "audio(wavef; t0=0.25, t1=-1)"
   ]
  },
  {
   "cell_type": "code",
   "execution_count": null,
   "id": "687c6e2d-73a1-4bbd-a3be-46df9d214fde",
   "metadata": {},
   "outputs": [],
   "source": [
    "audio(wavef; t0=0, t1=0.75)"
   ]
  },
  {
   "cell_type": "code",
   "execution_count": null,
   "id": "d3241e1c-a9b7-4463-85ff-27f55fb01221",
   "metadata": {},
   "outputs": [],
   "source": [
    "close(wavef)"
   ]
  },
  {
   "cell_type": "code",
   "execution_count": null,
   "id": "3dca2f19-e21d-4d58-95a8-09bd8224eb43",
   "metadata": {},
   "outputs": [],
   "source": []
  }
 ],
 "metadata": {
  "kernelspec": {
   "display_name": "Julia 1.10.4",
   "language": "julia",
   "name": "julia-1.10"
  },
  "language_info": {
   "file_extension": ".jl",
   "mimetype": "application/julia",
   "name": "julia",
   "version": "1.10.4"
  }
 },
 "nbformat": 4,
 "nbformat_minor": 5
}
